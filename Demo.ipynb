{
 "cells": [
  {
   "cell_type": "markdown",
   "metadata": {},
   "source": [
    "## Run Example Solvent Extraction Configuration\n",
    "Install all Install all dependencies using pip install -e .\n"
   ]
  },
  {
   "cell_type": "markdown",
   "metadata": {},
   "source": [
    "## Overview\n",
    "This is a simple test of the solvent extraction code. Same code can be found in front.py"
   ]
  },
  {
   "cell_type": "markdown",
   "metadata": {},
   "source": [
    "### Import helper modules"
   ]
  },
  {
   "cell_type": "code",
   "execution_count": 1,
   "metadata": {},
   "outputs": [],
   "source": [
    "\"\"\" local imports \"\"\"\n",
    "from solventx import solventx as sx\n",
    "from solventx import utilities as util\n"
   ]
  },
  {
   "cell_type": "markdown",
   "metadata": {},
   "source": [
    "### Create and Initialize Solvent Extraction Object\n",
    "Be sure to update the directory addresses in design.json to match your environment"
   ]
  },
  {
   "cell_type": "code",
   "execution_count": 3,
   "metadata": {},
   "outputs": [],
   "source": [
    "#\n",
    "\"\"\" build configs \"\"\"\n",
    "config_file = \".\\\\design.json\"\n",
    "confDict = util.read_config(config_file)\n",
    "\n",
    "config_env_file = \".\\\\env_design_config.json\"\n",
    "confEnvDict = util.get_env_config_dict(config_env_file)\n",
    "\n",
    "\"\"\" generate cases \"\"\"\n",
    "cases = util.generate(confDict,1)\n",
    "\n",
    "\"\"\" select case and create object \"\"\"\n",
    "ree_mass = [item for item in cases['0'].values()]\n",
    "obj = sx.solventx(confDict, confEnvDict, ree_mass)"
   ]
  },
  {
   "cell_type": "markdown",
   "metadata": {},
   "source": [
    "### Evaluate Simulation and pull example results"
   ]
  },
  {
   "cell_type": "code",
   "execution_count": null,
   "metadata": {},
   "outputs": [],
   "source": [
    "\"\"\" evaluate \"\"\"\n",
    "obj.evaluate(obj.design_variables) # \n",
    "\n",
    "\"\"\" Reward \"\"\"\n",
    "size = len(ree_mass)\n",
    "reward = obj.objective(size)\n",
    "\n",
    "\"\"\" Examine Specs \"\"\"\n",
    "purity, recovery = obj.constraintfun()\n",
    "recority = obj.recority # revoery * purity"
   ]
  },
  {
   "cell_type": "markdown",
   "metadata": {},
   "source": [
    "## For Optimization\n",
    " You need to install RBFOPT toolbox, pyomo interface for python integration, and your choice of coin-OR project solvers to handle the MINLP problem"
   ]
  },
  {
   "cell_type": "markdown",
   "metadata": {},
   "source": [
    "### Helper Function"
   ]
  },
  {
   "cell_type": "code",
   "execution_count": null,
   "metadata": {},
   "outputs": [],
   "source": [
    "\"\"\"\"\"\"\"\"\"\"\"\"\"\"\"\"\"\"\"\"\"\"\"\"\"\"\"\"\"\"\"\"\"\"\"\"\"\"\"\"\"\"\"\"\"\"\"\"\"\"\"\"\"\"\"\"\"\"\"\"\"\"\"\"\"\"\"\"\"\"\"\"\"\"\"\"\"\"\n",
    "\"\"\" \n",
    "Optimize solvent extraction configuration\n",
    "\"\"\"    \n",
    "\"\"\"\"\"\"\"\"\"\"\"\"\"\"\"\"\"\"\"\"\"\"\"\"\"\"\"\"\"\"\"\"\"\"\"\"\"\"\"\"\"\"\"\"\"\"\"\"\"\"\"\"\"\"\"\"\"\"\"\"\"\"\"\"\"\"\"\"\"\"\"\"\"\"\"\"\"\"\n",
    "def optimize(confDict, confEnvDict, case):\n",
    "    \n",
    "    \"\"\" instantiate solvent extraction object \"\"\"\n",
    "    ree_mass = [item for item in case.values()]\n",
    "    myb = sx.solventx(confDict, confEnvDict, ree_mass) \n",
    "\n",
    "    # Specify optimization settings\n",
    "    settings = rbfopt.RbfoptSettings(max_evaluations=10, init_strategy='lhd_corr', target_objval=0, max_noisy_restarts=3) #'lhd_corr')#, minlp_solver_path=minlp_solver, nlp_solver_path=nlp_solver) \n",
    "\n",
    "    myb.max_iter = settings.max_evaluations    \n",
    "    alg = rbfopt.RbfoptAlgorithm(settings, myb) \n",
    "    rbfopt.RbfoptSettings()\n",
    "\n",
    "    # call optimizer\n",
    "    val, x, itercount,evalcount, fast_evalcount = alg.optimize()\n",
    "\n",
    "    \n",
    "    \"\"\" Get Results \"\"\"   \n",
    "    myb.evaluate(x) # Recycle all ree\n",
    "    \n",
    "    for i,j in zip(myb.var_space['mutable'], x):    \n",
    "        print(i, '\\t',j)\n",
    "\n",
    "    \n",
    "    \"\"\" store results in json   \"\"\"\n",
    "    result = dict()\n",
    "    result[\"rees\"] = case\n",
    "    result[\"design x\"] = [item for item in x]\n",
    "    result[\"recovery\"] = myb.recovery\n",
    "    result[\"purity\"] = myb.purity\n",
    "    \n",
    "    result[\"objective\"] = {}\n",
    "    for key,value in myb.recority.items():\n",
    "        result[\"objective\"][key] = [item for item in value]\n",
    "    \n",
    "    result[\"function value\"] = val\n",
    "    result[\"constraints\"] = myb.constraint\n",
    "    result[\"variable space\"] = myb.var_space[\"mutable\"]\n",
    "    result[\"design\"] = {item:jtem for (item,jtem) in zip(myb.var_space[\"mutable\"].keys(),x)}\n",
    "   \n",
    "    \n",
    "    return result\n"
   ]
  },
  {
   "cell_type": "markdown",
   "metadata": {},
   "source": [
    "### Run Optimization\n",
    "The result is returned in the form of a dictionary (see optimize() function above)\n",
    "Remember to update the addresses to match your local directory system"
   ]
  },
  {
   "cell_type": "code",
   "execution_count": null,
   "metadata": {},
   "outputs": [],
   "source": [
    "\"\"\"\"\"\"\"\"\"\"\"\"\"\"\"\"\"\"\"\"\"\"\"\"\"\"\"\"\"\"\"\"\"\"\"\"\"\"\"\"\"\"\"\"\"\"\"\"\"\"\"\"\"\"\"\"\"\"\"\"\"\"\"\"\"\"\"\"\"\"\"\"\"\"\"\"\"\"\n",
    "\"\"\" \n",
    "Section B: Call the Standard Optimizer\n",
    "\"\"\"    \n",
    "\"\"\"\"\"\"\"\"\"\"\"\"\"\"\"\"\"\"\"\"\"\"\"\"\"\"\"\"\"\"\"\"\"\"\"\"\"\"\"\"\"\"\"\"\"\"\"\"\"\"\"\"\"\"\"\"\"\"\"\"\"\"\"\"\"\"\"\"\"\"\"\"\"\"\"\"\"\"\n",
    "t0 = time.time()\n",
    "\n",
    "config_file = \".\\\\design.json\"\n",
    "confDict = util.read_config(config_file)\n",
    "\n",
    "config_env_file = \".\\\\env_design_config.json\"\n",
    "confEnvDict = util.get_env_config_dict(config_env_file)\n",
    "\n",
    "\"\"\" generate cases \"\"\"\n",
    "cases = util.generate(confDict,3)\n",
    "\n",
    "t1 = time.time()\n",
    "#for now, pick only the first cases - later cases will use parallel submission\n",
    "resjsn = optimize(confDict, confEnvDict, cases['0'])\n",
    "#\n",
    "\n",
    "with open('solventx/data/json/results.json', 'w') as json_file:\n",
    "    json.dump(resjsn, json_file)"
   ]
  }
 ],
 "metadata": {
  "kernelspec": {
   "display_name": "Python 3",
   "language": "python",
   "name": "python3"
  },
  "language_info": {
   "codemirror_mode": {
    "name": "ipython",
    "version": 3
   },
   "file_extension": ".py",
   "mimetype": "text/x-python",
   "name": "python",
   "nbconvert_exporter": "python",
   "pygments_lexer": "ipython3",
   "version": "3.7.3"
  }
 },
 "nbformat": 4,
 "nbformat_minor": 2
}
