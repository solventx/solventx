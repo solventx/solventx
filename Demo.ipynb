{
 "cells": [
  {
   "cell_type": "markdown",
   "metadata": {},
   "source": [
    "## Run Example Solvent Extraction Configuration\n",
    "Install all Install all dependencies using pip install -e .\n"
   ]
  },
  {
   "cell_type": "markdown",
   "metadata": {},
   "source": [
    "## Overview\n",
    "This is a simple test of the solvent extraction code. Same code can be found in front.py"
   ]
  },
  {
   "cell_type": "markdown",
   "metadata": {},
   "source": [
    "### Import helper modules"
   ]
  },
  {
   "cell_type": "code",
   "execution_count": 1,
   "metadata": {},
   "outputs": [],
   "source": [
    "\"\"\" local imports \"\"\"\n",
    "from solventx import solventx as sx\n",
    "from solventx import utilities as util\n"
   ]
  },
  {
   "cell_type": "markdown",
   "metadata": {},
   "source": [
    "### Create and Initialize Solvent Extraction Object\n",
    "Be sure to update the directory addresses in design.json to match your environment"
   ]
  },
  {
   "cell_type": "code",
   "execution_count": 3,
   "metadata": {},
   "outputs": [],
   "source": [
    "#\n",
    "\"\"\" build configs \"\"\"\n",
    "config_file = \".\\\\design.json\"\n",
    "confDict = util.read_config(config_file)\n",
    "\n",
    "config_env_file = \".\\\\env_design_config.json\"\n",
    "confEnvDict = util.get_env_config_dict(config_env_file)\n",
    "\n",
    "\"\"\" generate cases \"\"\"\n",
    "cases = util.generate(confDict,1)\n",
    "\n",
    "\"\"\" select case and create object \"\"\"\n",
    "ree_mass = [item for item in cases['0'].values()]\n",
    "obj = sx.solventx(confDict, confEnvDict, ree_mass)"
   ]
  },
  {
   "cell_type": "markdown",
   "metadata": {},
   "source": [
    "### Evaluate Simulation and pull example results"
   ]
  },
  {
   "cell_type": "code",
   "execution_count": null,
   "metadata": {},
   "outputs": [],
   "source": [
    "\"\"\" evaluate \"\"\"\n",
    "obj.evaluate(obj.design_variables) #  \n",
    "\n",
    "\"\"\" Reward \"\"\"\n",
    "reward = obj.objective() # normalized reward\n",
    "\n",
    "\"\"\" Examine Specs \"\"\"\n",
    "purity = obj.purity\n",
    "recovery = obj.recovery\n",
    "recority = obj.recority # recovery * purity"
   ]
  },
  {
   "cell_type": "markdown",
   "metadata": {},
   "source": [
    "## For Optimization\n",
    " You need to install RBFOPT toolbox, pyomo interface for python integration, and your choice of coin-OR project solvers to handle the MINLP problem"
   ]
  },
  {
   "cell_type": "markdown",
   "metadata": {},
   "source": [
    "### Run Optimization\n",
    "The result is returned in the form of a dictionary (see optimize() function above)\n",
    "Remember to update the addresses to match your local directory system"
   ]
  },
  {
   "cell_type": "code",
   "execution_count": null,
   "metadata": {},
   "outputs": [],
   "source": [
    "\"\"\"\"\"\"\"\"\"\"\"\"\"\"\"\"\"\"\"\"\"\"\"\"\"\"\"\"\"\"\"\"\"\"\"\"\"\"\"\"\"\"\"\"\"\"\"\"\"\"\"\"\"\"\"\"\"\"\"\"\"\"\"\"\"\"\"\"\"\"\"\"\"\"\"\"\"\"\n",
    "\"\"\" \n",
    "Section B: Call the Standard Optimizer\n",
    "\"\"\"    \n",
    "\"\"\"\"\"\"\"\"\"\"\"\"\"\"\"\"\"\"\"\"\"\"\"\"\"\"\"\"\"\"\"\"\"\"\"\"\"\"\"\"\"\"\"\"\"\"\"\"\"\"\"\"\"\"\"\"\"\"\"\"\"\"\"\"\"\"\"\"\"\"\"\"\"\"\"\"\"\"\n",
    "t0 = time.time()\n",
    "\n",
    "config_file = \".\\\\design.json\"\n",
    "confDict = util.read_config(config_file)\n",
    "\n",
    "config_env_file = \".\\\\env_design_config.json\"\n",
    "confEnvDict = util.get_env_config_dict(config_env_file)\n",
    "\n",
    "\"\"\" generate cases \"\"\"\n",
    "cases = util.generate(confDict,3)\n",
    "\n",
    "t1 = time.time()\n",
    "#for now, pick only the first cases - later cases will use parallel submission\n",
    "ree_mass = [item for item in cases['0'].values()]\n",
    "\n",
    "# instantiate solvent extraction object\n",
    "obj = sx.solventx(confDict, confEnvDict, ree_mass) \n",
    "obj.cases = cases['0']\n",
    "iters = 100 # Number of iteration, at least 100 \n",
    "    \n",
    "resjsn = optimize(obj, iters)\n",
    "#\n",
    "\n",
    "with open('solventx/data/json/results.json', 'w') as json_file:\n",
    "    json.dump(resjsn, json_file)"
   ]
  }
 ],
 "metadata": {
  "kernelspec": {
   "display_name": "Python 3",
   "language": "python",
   "name": "python3"
  },
  "language_info": {
   "codemirror_mode": {
    "name": "ipython",
    "version": 3
   },
   "file_extension": ".py",
   "mimetype": "text/x-python",
   "name": "python",
   "nbconvert_exporter": "python",
   "pygments_lexer": "ipython3",
   "version": "3.7.3"
  }
 },
 "nbformat": 4,
 "nbformat_minor": 2
}
